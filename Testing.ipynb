{
 "cells": [
  {
   "cell_type": "code",
   "execution_count": 1,
   "metadata": {},
   "outputs": [],
   "source": [
    "import pandas as pd\n",
    "import numpy as np"
   ]
  },
  {
   "cell_type": "code",
   "execution_count": 2,
   "metadata": {},
   "outputs": [],
   "source": [
    "df = pd.read_csv('botnetDataset.csv')"
   ]
  },
  {
   "cell_type": "code",
   "execution_count": 4,
   "metadata": {},
   "outputs": [
    {
     "name": "stdout",
     "output_type": "stream",
     "text": [
      "<class 'pandas.core.frame.DataFrame'>\n",
      "RangeIndex: 863753 entries, 0 to 863752\n",
      "Data columns (total 41 columns):\n",
      " #   Column           Non-Null Count   Dtype  \n",
      "---  ------           --------------   -----  \n",
      " 0   Unnamed: 0       863753 non-null  int64  \n",
      " 1   srcip            863753 non-null  object \n",
      " 2   sport            863753 non-null  int64  \n",
      " 3   dstsip           863753 non-null  object \n",
      " 4   dsport           863753 non-null  int64  \n",
      " 5   proto            863753 non-null  object \n",
      " 6   state            863753 non-null  object \n",
      " 7   dur              863753 non-null  float64\n",
      " 8   sbytes           863753 non-null  int64  \n",
      " 9   dbytes           863753 non-null  int64  \n",
      " 10  sttl             863753 non-null  int64  \n",
      " 11  dttl             863753 non-null  int64  \n",
      " 12  sloss            863753 non-null  int64  \n",
      " 13  dloss            863753 non-null  int64  \n",
      " 14  service          863753 non-null  object \n",
      " 15  sload            863753 non-null  float64\n",
      " 16  dload            863753 non-null  float64\n",
      " 17  spkts            863753 non-null  int64  \n",
      " 18  dpkts            863753 non-null  int64  \n",
      " 19  swin             863753 non-null  int64  \n",
      " 20  dwin             863753 non-null  int64  \n",
      " 21  stcpb            863753 non-null  int64  \n",
      " 22  dtcpb            863753 non-null  int64  \n",
      " 23  smeansz          863753 non-null  int64  \n",
      " 24  dmeansz          863753 non-null  int64  \n",
      " 25  trans_dept       863753 non-null  int64  \n",
      " 26  res_bdy_len      863753 non-null  int64  \n",
      " 27  sjit             863753 non-null  float64\n",
      " 28  djit             863753 non-null  float64\n",
      " 29  stime            863753 non-null  int64  \n",
      " 30  ltime            863753 non-null  int64  \n",
      " 31  sintpkt          863753 non-null  float64\n",
      " 32  dintpkt          863753 non-null  float64\n",
      " 33  tcprtt           863753 non-null  float64\n",
      " 34  synack           863753 non-null  float64\n",
      " 35  ackdat           863753 non-null  float64\n",
      " 36  is_sn_ips_ports  863753 non-null  int64  \n",
      " 37  ct_state_ttl     863753 non-null  int64  \n",
      " 38  is_ftp_login     33809 non-null   float64\n",
      " 39  attack_cat       321283 non-null  object \n",
      " 40  label            863753 non-null  int64  \n",
      "dtypes: float64(11), int64(24), object(6)\n",
      "memory usage: 270.2+ MB\n"
     ]
    }
   ],
   "source": [
    "df.info()"
   ]
  },
  {
   "cell_type": "code",
   "execution_count": null,
   "metadata": {},
   "outputs": [],
   "source": []
  }
 ],
 "metadata": {
  "kernelspec": {
   "display_name": "Python 3",
   "language": "python",
   "name": "python3"
  },
  "language_info": {
   "codemirror_mode": {
    "name": "ipython",
    "version": 3
   },
   "file_extension": ".py",
   "mimetype": "text/x-python",
   "name": "python",
   "nbconvert_exporter": "python",
   "pygments_lexer": "ipython3",
   "version": "3.8.5"
  }
 },
 "nbformat": 4,
 "nbformat_minor": 4
}
